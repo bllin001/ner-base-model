{
 "cells": [
  {
   "attachments": {},
   "cell_type": "markdown",
   "metadata": {},
   "source": [
    "# Package install"
   ]
  },
  {
   "cell_type": "code",
   "execution_count": 1,
   "metadata": {},
   "outputs": [
    {
     "name": "stdout",
     "output_type": "stream",
     "text": [
      "Requirement already satisfied: spacy in /Users/brianllinas/miniforge3/lib/python3.10/site-packages (3.5.2)\n",
      "Requirement already satisfied: typer<0.8.0,>=0.3.0 in /Users/brianllinas/miniforge3/lib/python3.10/site-packages (from spacy) (0.7.0)\n",
      "Requirement already satisfied: catalogue<2.1.0,>=2.0.6 in /Users/brianllinas/miniforge3/lib/python3.10/site-packages (from spacy) (2.0.8)\n",
      "Requirement already satisfied: spacy-loggers<2.0.0,>=1.0.0 in /Users/brianllinas/miniforge3/lib/python3.10/site-packages (from spacy) (1.0.4)\n",
      "Requirement already satisfied: spacy-legacy<3.1.0,>=3.0.11 in /Users/brianllinas/miniforge3/lib/python3.10/site-packages (from spacy) (3.0.12)\n",
      "Requirement already satisfied: langcodes<4.0.0,>=3.2.0 in /Users/brianllinas/miniforge3/lib/python3.10/site-packages (from spacy) (3.3.0)\n",
      "Requirement already satisfied: tqdm<5.0.0,>=4.38.0 in /Users/brianllinas/miniforge3/lib/python3.10/site-packages (from spacy) (4.65.0)\n",
      "Requirement already satisfied: cymem<2.1.0,>=2.0.2 in /Users/brianllinas/miniforge3/lib/python3.10/site-packages (from spacy) (2.0.7)\n",
      "Requirement already satisfied: jinja2 in /Users/brianllinas/miniforge3/lib/python3.10/site-packages (from spacy) (3.1.2)\n",
      "Requirement already satisfied: numpy>=1.15.0 in /Users/brianllinas/miniforge3/lib/python3.10/site-packages (from spacy) (1.24.3)\n",
      "Requirement already satisfied: setuptools in /Users/brianllinas/miniforge3/lib/python3.10/site-packages (from spacy) (65.6.3)\n",
      "Requirement already satisfied: packaging>=20.0 in /Users/brianllinas/miniforge3/lib/python3.10/site-packages (from spacy) (23.1)\n",
      "Requirement already satisfied: srsly<3.0.0,>=2.4.3 in /Users/brianllinas/miniforge3/lib/python3.10/site-packages (from spacy) (2.4.6)\n",
      "Requirement already satisfied: requests<3.0.0,>=2.13.0 in /Users/brianllinas/miniforge3/lib/python3.10/site-packages (from spacy) (2.28.2)\n",
      "Requirement already satisfied: smart-open<7.0.0,>=5.2.1 in /Users/brianllinas/miniforge3/lib/python3.10/site-packages (from spacy) (6.3.0)\n",
      "Requirement already satisfied: murmurhash<1.1.0,>=0.28.0 in /Users/brianllinas/miniforge3/lib/python3.10/site-packages (from spacy) (1.0.9)\n",
      "Requirement already satisfied: pydantic!=1.8,!=1.8.1,<1.11.0,>=1.7.4 in /Users/brianllinas/miniforge3/lib/python3.10/site-packages (from spacy) (1.10.7)\n",
      "Requirement already satisfied: pathy>=0.10.0 in /Users/brianllinas/miniforge3/lib/python3.10/site-packages (from spacy) (0.10.1)\n",
      "Requirement already satisfied: preshed<3.1.0,>=3.0.2 in /Users/brianllinas/miniforge3/lib/python3.10/site-packages (from spacy) (3.0.8)\n",
      "Requirement already satisfied: thinc<8.2.0,>=8.1.8 in /Users/brianllinas/miniforge3/lib/python3.10/site-packages (from spacy) (8.1.9)\n",
      "Requirement already satisfied: wasabi<1.2.0,>=0.9.1 in /Users/brianllinas/miniforge3/lib/python3.10/site-packages (from spacy) (1.1.1)\n",
      "Requirement already satisfied: typing-extensions>=4.2.0 in /Users/brianllinas/miniforge3/lib/python3.10/site-packages (from pydantic!=1.8,!=1.8.1,<1.11.0,>=1.7.4->spacy) (4.5.0)\n",
      "Requirement already satisfied: certifi>=2017.4.17 in /Users/brianllinas/miniforge3/lib/python3.10/site-packages (from requests<3.0.0,>=2.13.0->spacy) (2022.12.7)\n",
      "Requirement already satisfied: charset-normalizer<4,>=2 in /Users/brianllinas/miniforge3/lib/python3.10/site-packages (from requests<3.0.0,>=2.13.0->spacy) (3.1.0)\n",
      "Requirement already satisfied: urllib3<1.27,>=1.21.1 in /Users/brianllinas/miniforge3/lib/python3.10/site-packages (from requests<3.0.0,>=2.13.0->spacy) (1.26.15)\n",
      "Requirement already satisfied: idna<4,>=2.5 in /Users/brianllinas/miniforge3/lib/python3.10/site-packages (from requests<3.0.0,>=2.13.0->spacy) (3.4)\n",
      "Requirement already satisfied: blis<0.8.0,>=0.7.8 in /Users/brianllinas/miniforge3/lib/python3.10/site-packages (from thinc<8.2.0,>=8.1.8->spacy) (0.7.9)\n",
      "Requirement already satisfied: confection<1.0.0,>=0.0.1 in /Users/brianllinas/miniforge3/lib/python3.10/site-packages (from thinc<8.2.0,>=8.1.8->spacy) (0.0.4)\n",
      "Requirement already satisfied: click<9.0.0,>=7.1.1 in /Users/brianllinas/miniforge3/lib/python3.10/site-packages (from typer<0.8.0,>=0.3.0->spacy) (8.1.3)\n",
      "Requirement already satisfied: MarkupSafe>=2.0 in /Users/brianllinas/miniforge3/lib/python3.10/site-packages (from jinja2->spacy) (2.1.2)\n",
      "Note: you may need to restart the kernel to use updated packages.\n"
     ]
    }
   ],
   "source": [
    "%pip install spacy "
   ]
  },
  {
   "attachments": {},
   "cell_type": "markdown",
   "metadata": {},
   "source": [
    "# Package import "
   ]
  },
  {
   "cell_type": "code",
   "execution_count": 3,
   "metadata": {},
   "outputs": [],
   "source": [
    "import spacy\n",
    "from spacy.tokens import DocBin\n",
    "from tqdm import tqdm\n",
    "import json"
   ]
  },
  {
   "attachments": {},
   "cell_type": "markdown",
   "metadata": {},
   "source": [
    "# Creating space"
   ]
  },
  {
   "attachments": {},
   "cell_type": "markdown",
   "metadata": {},
   "source": [
    "The first line of code creates a new instance of a blank spaCy language model for English language. \n",
    "\n",
    "The second line of code creates an empty DocBin object. DocBin is a container for spaCy Doc objects, which are used to represent documents in spaCy. DocBin objects are useful for storing a large number of documents in a space-efficient format, and for serializing and deserializing spaCy documents for processing and analysis. The db object can be used to add Doc objects and then later serialize the collection of documents to disk or to a network socket."
   ]
  },
  {
   "cell_type": "code",
   "execution_count": 3,
   "metadata": {},
   "outputs": [],
   "source": [
    "nlp = spacy.blank('en')\n",
    "db = DocBin()"
   ]
  },
  {
   "attachments": {},
   "cell_type": "markdown",
   "metadata": {},
   "source": [
    "# Data lecture (JSON)"
   ]
  },
  {
   "cell_type": "code",
   "execution_count": 4,
   "metadata": {},
   "outputs": [
    {
     "data": {
      "text/plain": [
       "{'classes': ['CRYPTO', 'ORG', 'TIME', 'VALUE', 'CHANGE', 'PERSON'],\n",
       " 'annotations': [['Cryptocurrency prices today surged with Bitcoin trading at $48,089.82, a 2.6% increase in the last 24 hours. Ethereum surged marginally to $3,838.45, a 1.3% increase in the last 24 hours.',\n",
       "   {'entities': [[0, 14, 'CRYPTO'],\n",
       "     [40, 47, 'CRYPTO'],\n",
       "     [59, 69, 'VALUE'],\n",
       "     [73, 77, 'CHANGE'],\n",
       "     [99, 108, 'TIME'],\n",
       "     [109, 117, 'CRYPTO'],\n",
       "     [139, 148, 'VALUE'],\n",
       "     [152, 156, 'CHANGE'],\n",
       "     [178, 186, 'TIME']]}],\n",
       "  ['Dogecoin went up 15.5% at $0.181994 in the last 24 hours, after Tesla Inc chief Elon Musk said on Tuesday the electric carmaker will accept Dogecoin as payment for merchandise on a test basis, sending the meme-based cryptocurrency up over 20%. Dogecoin, popular among retail investors, raced up to $0.20 after the tweet.',\n",
       "   {'entities': [[0, 8, 'CRYPTO'],\n",
       "     [17, 22, 'CHANGE'],\n",
       "     [26, 35, 'VALUE'],\n",
       "     [48, 56, 'TIME'],\n",
       "     [64, 73, 'ORG'],\n",
       "     [80, 89, 'PERSON'],\n",
       "     [98, 105, 'TIME'],\n",
       "     [140, 148, 'CRYPTO'],\n",
       "     [239, 242, 'CHANGE'],\n",
       "     [244, 252, 'CRYPTO'],\n",
       "     [298, 303, 'CHANGE']]}],\n",
       "  ['Shiba Inu witnessed a marginal surge to $0.00003353, which is a 0.9% increase in the last 24 hours.',\n",
       "   {'entities': [[0, 9, 'ORG'],\n",
       "     [40, 51, 'CHANGE'],\n",
       "     [64, 68, 'CHANGE'],\n",
       "     [90, 98, 'TIME']]}],\n",
       "  ['The global cryptocurrency market capitalization today is $2.3 Trillion, which is a 2.5% increase in the last 24 hours and the total cryptocurrency trading volume in the last day is at $118 billion, according to popular data provider CoinGecko. While Bitcoin dominance is at 39.6%, Ethereum dominance is at 19.8%, CoinGecko reported.',\n",
       "   {'entities': [[57, 70, 'VALUE'],\n",
       "     [83, 87, 'CHANGE'],\n",
       "     [109, 117, 'TIME'],\n",
       "     [169, 177, 'TIME'],\n",
       "     [184, 196, 'VALUE'],\n",
       "     [233, 243, 'ORG'],\n",
       "     [250, 257, 'CRYPTO'],\n",
       "     [274, 279, 'CHANGE'],\n",
       "     [281, 289, 'CRYPTO'],\n",
       "     [306, 311, 'CHANGE'],\n",
       "     [313, 322, 'ORG']]}],\n",
       "  ['Meanwhile, just a day ago cryptocurrencies prices listed on Coinbase Global Inc. and CoinMarketCap.com briefly went haywire, with many tokens showing astronomical gains that sent users gushing about huge windfalls and others wondering what happened.',\n",
       "   {'entities': [[18, 25, 'TIME'], [60, 80, 'ORG'], [85, 102, 'ORG']]}],\n",
       "  ['The issue has been resolved, CoinMarketCap.com said in a statement. Coinbase, the biggest US crypto exchange, said the same on Twitter, noting that trading wasn’t impacted. A few minutes later, Coinbase said it’s still investigating asset price and trade difficulties in Coinbase Wallet, which allows customers to manage their crypto assets. Neither company provided an explanation of what went wrong.',\n",
       "   {'entities': [[29, 46, 'ORG'],\n",
       "     [68, 76, 'CRYPTO'],\n",
       "     [127, 134, 'ORG'],\n",
       "     [194, 202, 'CRYPTO'],\n",
       "     [271, 286, 'ORG']]}],\n",
       "  ['Technical glitches have long plagued the cryptocurrency world, with many exchanges often having trouble processing transactions during period of high trading activity. The feature of anonymity that has been a selling point since the development of cryptocurrencies has also made it difficult to resolve hacks and thefts.',\n",
       "   {'entities': []}],\n",
       "  ['“We haven’t found any evidence yet to suggest that today’s glitch was caused by an external party,\" CoinMarketCap.com said in a statement, as many on Twitter speculated that the site was hacked. ',\n",
       "   {'entities': [[100, 117, 'ORG'], [150, 157, 'ORG']]}]]}"
      ]
     },
     "execution_count": 4,
     "metadata": {},
     "output_type": "execute_result"
    }
   ],
   "source": [
    "f = open('training_data.json')\n",
    "TRAIN_DATA = json.load(f)\n",
    "TRAIN_DATA\n"
   ]
  },
  {
   "cell_type": "code",
   "execution_count": 5,
   "metadata": {},
   "outputs": [
    {
     "name": "stderr",
     "output_type": "stream",
     "text": [
      "100%|██████████| 8/8 [00:00<00:00, 839.66it/s]\n"
     ]
    }
   ],
   "source": [
    "for text, annot in tqdm (TRAIN_DATA['annotations']):\n",
    "    doc = nlp.make_doc(text)\n",
    "    ents = []\n",
    "    for start, end, label in annot['entities']:\n",
    "        span = doc.char_span(start, end, label=label, alignment_mode='contract')\n",
    "        if span is None:\n",
    "            print('Skipping entity')\n",
    "        else:\n",
    "            ents.append(span)\n",
    "        doc.ents = ents\n",
    "        db.add(doc)\n",
    "\n",
    "db.to_disk('./training_data.spacy')"
   ]
  },
  {
   "attachments": {},
   "cell_type": "markdown",
   "metadata": {},
   "source": [
    "# Train the model"
   ]
  },
  {
   "cell_type": "code",
   "execution_count": 6,
   "metadata": {},
   "outputs": [
    {
     "name": "stdout",
     "output_type": "stream",
     "text": [
      "\u001b[38;5;3m⚠ To generate a more effective transformer-based config (GPU-only),\n",
      "install the spacy-transformers package and re-run this command. The config\n",
      "generated now does not use transformers.\u001b[0m\n",
      "\u001b[38;5;4mℹ Generated config template specific for your use case\u001b[0m\n",
      "- Language: en\n",
      "- Pipeline: ner\n",
      "- Optimize for: efficiency\n",
      "- Hardware: CPU\n",
      "- Transformer: None\n",
      "\u001b[38;5;2m✔ Auto-filled config with all values\u001b[0m\n",
      "\u001b[38;5;2m✔ Saved config\u001b[0m\n",
      "config.cfg\n",
      "You can now add your data and train your pipeline:\n",
      "python -m spacy train config.cfg --paths.train ./train.spacy --paths.dev ./dev.spacy\n"
     ]
    }
   ],
   "source": [
    "! python -m spacy init config config.cfg --lang en --pipeline ner --optimize efficiency"
   ]
  },
  {
   "cell_type": "code",
   "execution_count": 7,
   "metadata": {},
   "outputs": [
    {
     "name": "stdout",
     "output_type": "stream",
     "text": [
      "\u001b[38;5;4mℹ Saving to output directory: .\u001b[0m\n",
      "\u001b[38;5;4mℹ Using CPU\u001b[0m\n",
      "\u001b[1m\n",
      "=========================== Initializing pipeline ===========================\u001b[0m\n",
      "[2023-04-26 16:29:28,814] [INFO] Set up nlp object from config\n",
      "[2023-04-26 16:29:28,819] [INFO] Pipeline: ['tok2vec', 'ner']\n",
      "[2023-04-26 16:29:28,820] [INFO] Created vocabulary\n",
      "[2023-04-26 16:29:28,822] [INFO] Finished initializing nlp object\n",
      "[2023-04-26 16:29:28,996] [INFO] Initialized pipeline components: ['tok2vec', 'ner']\n",
      "\u001b[38;5;2m✔ Initialized pipeline\u001b[0m\n",
      "\u001b[1m\n",
      "============================= Training pipeline =============================\u001b[0m\n",
      "\u001b[38;5;4mℹ Pipeline: ['tok2vec', 'ner']\u001b[0m\n",
      "\u001b[38;5;4mℹ Initial learn rate: 0.001\u001b[0m\n",
      "E    #       LOSS TOK2VEC  LOSS NER  ENTS_F  ENTS_P  ENTS_R  SCORE \n",
      "---  ------  ------------  --------  ------  ------  ------  ------\n",
      "  0       0          0.00     19.04    4.00    2.18   24.64    0.04\n",
      "  6     200        207.18   2287.68   75.57   63.26   93.84    0.76\n",
      " 15     400         66.99   1503.93   73.82   82.46   66.82    0.74\n",
      " 26     600         66.51   1747.40   77.63   72.24   83.89    0.78\n",
      " 40     800         75.15   2161.78   78.09   72.00   85.31    0.78\n",
      " 58    1000         83.84   2533.46   78.36   75.44   81.52    0.78\n",
      " 80    1200        100.29   3071.94   77.86   76.61   79.15    0.78\n",
      "108    1400        126.57   3746.89   77.88   75.78   80.09    0.78\n",
      "142    1600        140.83   4519.59   78.12   77.57   78.67    0.78\n",
      "182    1800        163.32   5362.29   78.95   73.47   85.31    0.79\n",
      "232    2000        201.52   6521.67   77.80   78.37   77.25    0.78\n",
      "296    2200        244.22   8210.83   78.75   74.58   83.41    0.79\n",
      "362    2400        272.92   8588.37   77.54   77.36   77.73    0.78\n",
      "429    2600        266.78   8577.17   78.44   76.00   81.04    0.78\n",
      "496    2800        264.73   8536.83   76.96   79.70   74.41    0.77\n",
      "562    3000        252.17   8550.12   77.07   79.40   74.88    0.77\n",
      "629    3200        255.77   8601.05   76.54   79.90   73.46    0.77\n",
      "696    3400        252.81   8513.05   77.80   78.37   77.25    0.78\n",
      "\u001b[38;5;2m✔ Saved pipeline to output directory\u001b[0m\n",
      "model-last\n"
     ]
    }
   ],
   "source": [
    "! python -m spacy train config.cfg --output ./ --paths.train ./training_data.spacy --paths.dev ./training_data.spacy"
   ]
  },
  {
   "attachments": {},
   "cell_type": "markdown",
   "metadata": {},
   "source": [
    "# Test the model"
   ]
  },
  {
   "cell_type": "code",
   "execution_count": 9,
   "metadata": {},
   "outputs": [],
   "source": [
    "nlp_ner = spacy.load('./model-best/')\n"
   ]
  },
  {
   "cell_type": "code",
   "execution_count": 10,
   "metadata": {},
   "outputs": [],
   "source": [
    "doc = nlp_ner('''The S&P 500 and the Dow hit all-time highs on Thursday, extending a record-setting run as a dip in weekly jobless claims allayed fears over the economic damage from a rampant surge in COVID-19 infections in the United States.\n",
    "\n",
    "The blue-chip Dow was set to rise for a seventh straight session, its longest streak of gains since March.\n",
    "\n",
    "The Labor Department's data showed that the number of Americans filing for new unemployment claims slipped to 198,000 in the week leading up to Christmas, from 205,000 a week earlier. Economists polled by Reuters had forecast 208,000 applications for the latest week.''')"
   ]
  },
  {
   "cell_type": "code",
   "execution_count": 11,
   "metadata": {},
   "outputs": [
    {
     "data": {
      "text/html": [
       "<span class=\"tex2jax_ignore\"><div class=\"entities\" style=\"line-height: 2.5; direction: ltr\">The S&amp;P 500 and the Dow hit all-time highs on Thursday, extending a record-setting run as a dip in weekly jobless claims allayed fears over the economic damage from a rampant surge in COVID-19 infections in the United States.</br></br>The blue-chip Dow was set to rise for a seventh straight session, its longest streak of gains since March.</br></br>The \n",
       "<mark class=\"entity\" style=\"background: #7aecec; padding: 0.45em 0.6em; margin: 0 0.25em; line-height: 1; border-radius: 0.35em;\">\n",
       "    Labor Department\n",
       "    <span style=\"font-size: 0.8em; font-weight: bold; line-height: 1; border-radius: 0.35em; vertical-align: middle; margin-left: 0.5rem\">ORG</span>\n",
       "</mark>\n",
       "'s data showed that the number of Americans filing for new unemployment claims slipped to 198,000 in the week leading up to Christmas, from 205,000 a week earlier. \n",
       "<mark class=\"entity\" style=\"background: #ddd; padding: 0.45em 0.6em; margin: 0 0.25em; line-height: 1; border-radius: 0.35em;\">\n",
       "    Economists\n",
       "    <span style=\"font-size: 0.8em; font-weight: bold; line-height: 1; border-radius: 0.35em; vertical-align: middle; margin-left: 0.5rem\">CRYPTO</span>\n",
       "</mark>\n",
       " polled by Reuters had forecast 208,000 applications for the latest week.</div></span>"
      ],
      "text/plain": [
       "<IPython.core.display.HTML object>"
      ]
     },
     "metadata": {},
     "output_type": "display_data"
    }
   ],
   "source": [
    "spacy.displacy.render(doc, style='ent', jupyter=True)"
   ]
  },
  {
   "cell_type": "code",
   "execution_count": null,
   "metadata": {},
   "outputs": [],
   "source": []
  }
 ],
 "metadata": {
  "kernelspec": {
   "display_name": "base",
   "language": "python",
   "name": "python3"
  },
  "language_info": {
   "codemirror_mode": {
    "name": "ipython",
    "version": 3
   },
   "file_extension": ".py",
   "mimetype": "text/x-python",
   "name": "python",
   "nbconvert_exporter": "python",
   "pygments_lexer": "ipython3",
   "version": "3.10.10"
  },
  "orig_nbformat": 4
 },
 "nbformat": 4,
 "nbformat_minor": 2
}
